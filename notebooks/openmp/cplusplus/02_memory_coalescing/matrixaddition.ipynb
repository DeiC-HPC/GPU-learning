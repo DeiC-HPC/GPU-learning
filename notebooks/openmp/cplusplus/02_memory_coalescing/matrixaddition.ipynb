{
 "cells": [
  {
   "cell_type": "markdown",
   "metadata": {},
   "source": [
    "Memory Coalescing\n",
    "=================\n",
    "In this part we will talk about memory coalescence. We will talk about what it\n",
    "is and why it is important. We will also showcase a program, where we will see\n",
    "how it should be done and how it should not be done.\n",
    "\n",
    "0 What is it?\n",
    "-------------\n",
    "On a GPU we have three layers of memory:\n",
    "- Global\n",
    "- Shared\n",
    "- Local (registers)\n",
    "\n",
    "When we access global memory on a gpu, we access multiple elements at the same\n",
    "time. This is important to keep in mind, when programming, because access to\n",
    "global memory is slow. So we need to utilise that we are accessing multiple\n",
    "elements at the same time. Therefore we need adjacent threads on the GPU to\n",
    "access adjacent memory in order to gain maximum performance.\n",
    "\n",
    "1 Matrix addition\n",
    "-----------------\n",
    "We will be looking at matrix addition, but for teaching purposes we will only\n",
    "parallelise one dimension. We will show the differences in parallelising each\n",
    "dimension and describe why there is a difference.\n",
    "\n",
    "2 Parallelising the outer loop\n",
    "------------------------------\n",
    "When programming a CPU the correct thing to do would be to parallelise the outer\n",
    "loop, because we would then get cache coherency. So this is what we have done in\n",
    "the first part. This is not optimal on a GPU, because when we access memory, we\n",
    "get multiple elements at the same time as described earlier. When parallelising\n",
    "the outer loop, every thread in the thread block will read their section of\n",
    "memory, which requires multiple reads of global memory.\n",
    "\n",
    "![Every thread will read from a different block of memory](notcoalesced.png)"
   ]
  },
  {
   "cell_type": "code",
   "execution_count": 22,
   "metadata": {
    "execution": {
     "iopub.execute_input": "2020-10-27T11:45:57.515721Z",
     "iopub.status.busy": "2020-10-27T11:45:57.515567Z",
     "iopub.status.idle": "2020-10-27T11:46:00.483044Z",
     "shell.execute_reply": "2020-10-27T11:46:00.482553Z",
     "shell.execute_reply.started": "2020-10-27T11:45:57.515707Z"
    }
   },
   "outputs": [
    {
     "name": "stdout",
     "output_type": "stream",
     "text": [
      "Elapsed time: 1.196168\n",
      "All numbers in matrix are 2\n"
     ]
    }
   ],
   "source": [
    "#include<stdlib.h>\n",
    "#include<iostream>\n",
    "#include \"timer.h\"\n",
    "\n",
    "using namespace std;\n",
    "\n",
    "int main() {\n",
    "    int height = 20000;\n",
    "    int width = 20000;\n",
    "    int memsize = width*height;\n",
    "\n",
    "    int* a = new int[memsize];\n",
    "    int* b = new int[memsize];\n",
    "    int* res = new int[memsize];\n",
    "\n",
    "    for (int i = 0; i < height; i++) {\n",
    "        for (int j = 0; j < width; j++) {\n",
    "            a[i*width+j] = 1;\n",
    "            b[i*width+j] = 1;\n",
    "        }\n",
    "    }\n",
    "\n",
    "    timer time;\n",
    "\n",
    "    #pragma omp target teams distribute parallel for map(to:a[:width*height]) map(to:b[:width*height]) map(from:res[:width*height])\n",
    "    for (int i = 0; i < height; i++) {\n",
    "        for (int j = 0; j < width; j++) {\n",
    "            res[i*width+j] = a[i*width+j] + b[i*width+j];\n",
    "        }\n",
    "    }\n",
    "\n",
    "    printf(\"Elapsed time: %f\\n\", time.getTime());\n",
    "\n",
    "    bool allElementsAre2 = true;\n",
    "    for (int i = 0; i < height; i++) {\n",
    "        for (int j = 0; j < width; j++) {\n",
    "            if (res[i*width+j] != 2) {\n",
    "                allElementsAre2 = false;\n",
    "            }\n",
    "        }\n",
    "    }\n",
    "\n",
    "    if (allElementsAre2) {\n",
    "        cout << \"All numbers in matrix are 2\" << endl;\n",
    "    } else {\n",
    "        cout << \"Not all numbers in matrix are 2\" << endl;\n",
    "    }\n",
    "\n",
    "    return 0;\n",
    "}"
   ]
  },
  {
   "cell_type": "markdown",
   "metadata": {},
   "source": [
    "\n",
    "3 Parallelising the inner loop\n",
    "------------------------------\n",
    "To fix the error in the previous version, we instead parallelise the inner loop.\n",
    "This means when we are reading data from global memory, then every data point is\n",
    "given to a thread and no data is fetched without being assigned to a thread.\n",
    "\n",
    "![All threads read within the same block of memory](coalesced.png)"
   ]
  },
  {
   "cell_type": "code",
   "execution_count": 23,
   "metadata": {
    "execution": {
     "iopub.execute_input": "2020-10-27T11:46:08.542533Z",
     "iopub.status.busy": "2020-10-27T11:46:08.542365Z",
     "iopub.status.idle": "2020-10-27T11:46:12.295245Z",
     "shell.execute_reply": "2020-10-27T11:46:12.294729Z",
     "shell.execute_reply.started": "2020-10-27T11:46:08.542519Z"
    }
   },
   "outputs": [
    {
     "name": "stdout",
     "output_type": "stream",
     "text": [
      "Elapsed time: 1.971065\n",
      "All numbers in matrix are 2\n"
     ]
    }
   ],
   "source": [
    "#include<stdlib.h>\n",
    "#include<iostream>\n",
    "#include<timer.h>\n",
    "\n",
    "using namespace std;\n",
    "\n",
    "int main() {\n",
    "    int height = 20000;\n",
    "    int width = 20000;\n",
    "    int memsize = width*height;\n",
    "    timespec start,end,diff;\n",
    "\n",
    "    int* a = new int[memsize];\n",
    "    int* b = new int[memsize];\n",
    "    int* res = new int[memsize];\n",
    "\n",
    "    for (int i = 0; i < height; i++) {\n",
    "        for (int j = 0; j < width; j++) {\n",
    "            a[i*width+j] = 1;\n",
    "            b[i*width+j] = 1;\n",
    "        }\n",
    "    }\n",
    "\n",
    "    timer time;\n",
    "\n",
    "    #pragma omp target teams distribute parallel for map(to:a[:width*height]) map(to:b[:width*height]) map(from:res[:width*height])\n",
    "    for (int j = 0; j < width; j++) {\n",
    "        for (int i = 0; i < height; i++) {\n",
    "            res[i*width+j] = a[i*width+j] + b[i*width+j];\n",
    "        }\n",
    "    }\n",
    "\n",
    "    printf(\"Elapsed time: %f\\n\", time.getTime());\n",
    "\n",
    "    bool allElementsAre2 = true;\n",
    "    for (int i = 0; i < height; i++) {\n",
    "        for (int j = 0; j < width; j++) {\n",
    "            if (res[i*width+j] != 2) {\n",
    "                allElementsAre2 = false;\n",
    "            }\n",
    "        }\n",
    "    }\n",
    "\n",
    "    if (allElementsAre2) {\n",
    "        cout << \"All numbers in matrix are 2\" << endl;\n",
    "    } else {\n",
    "        cout << \"Not all numbers in matrix are 2\" << endl;\n",
    "    }\n",
    "\n",
    "    return 0;\n",
    "}"
   ]
  },
  {
   "cell_type": "code",
   "execution_count": null,
   "metadata": {},
   "outputs": [],
   "source": []
  }
 ],
 "metadata": {
  "kernelspec": {
   "display_name": "C++ with OpenMP",
   "language": "c++",
   "name": "kernel_cpp_openmp"
  },
  "language_info": {
   "file_extension": ".c",
   "mimetype": "text/plain",
   "name": "c"
  }
 },
 "nbformat": 4,
 "nbformat_minor": 4
}
