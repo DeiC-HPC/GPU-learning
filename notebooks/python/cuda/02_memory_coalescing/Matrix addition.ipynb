{
 "cells": [
  {
   "cell_type": "markdown",
   "metadata": {},
   "source": [
    "Memory Coalescing\n",
    "=================\n",
    "In this part we will talk about memory coalescence. We will talk about what it\n",
    "is and why it is important. We will also showcase a program, where we will see\n",
    "how it should be done and how it should not be done."
   ]
  },
  {
   "cell_type": "markdown",
   "metadata": {},
   "source": [
    "0 What is it?\n",
    "-------------\n",
    "On a GPU we have three layers of memory:\n",
    "- Global\n",
    "- Shared\n",
    "- Local (registers)\n",
    "\n",
    "When we access global memory on a gpu, we access multiple elements at the same\n",
    "time. This is important to keep in mind, when programming, because access to\n",
    "global memory is slow. So we need to utilise that we are accessing multiple\n",
    "elements at the same time. Therefore we need adjacent threads on the GPU to\n",
    "access adjacent memory in order to gain maximum performance."
   ]
  },
  {
   "cell_type": "markdown",
   "metadata": {},
   "source": [
    "1 Matrix addition\n",
    "-----------------\n",
    "We will be looking at matrix addition, but for teaching purposes we will only\n",
    "parallelise one dimension. We will show the differences in parallelising each\n",
    "dimension and describe why there is a difference. It is important to note\n",
    "that in this example we use a row major memory layout."
   ]
  },
  {
   "cell_type": "markdown",
   "metadata": {},
   "source": [
    "2 Parallelising the outer loop\n",
    "------------------------------\n",
    "When programming a CPU the correct thing to do would be to parallelise the outer\n",
    "loop, because we would then get cache coherency. So this is what we have done in\n",
    "the first part. This is not optimal on a GPU, because when we access memory, we\n",
    "get multiple elements at the same time as described earlier. When parallelising\n",
    "the outer loop, every thread in the thread block will read their section of\n",
    "memory, which requires multiple reads of global memory.\n",
    "\n",
    "![Every thread will read from a different block of memory](notcoalesced.png)"
   ]
  },
  {
   "cell_type": "code",
   "execution_count": 1,
   "metadata": {},
   "outputs": [
    {
     "name": "stdout",
     "output_type": "stream",
     "text": [
      "[[2 2 2 ... 2 2 2]\n",
      " [2 2 2 ... 2 2 2]\n",
      " [2 2 2 ... 2 2 2]\n",
      " ...\n",
      " [2 2 2 ... 2 2 2]\n",
      " [2 2 2 ... 2 2 2]\n",
      " [2 2 2 ... 2 2 2]]\n"
     ]
    }
   ],
   "source": [
    "import numpy as np\n",
    "import pycuda.driver as cuda\n",
    "import pycuda.autoinit\n",
    "from pycuda.compiler import SourceModule\n",
    "import math\n",
    "import time\n",
    "\n",
    "mod = SourceModule(\"\"\"\n",
    "        __global__ void matrixaddition(\n",
    "            const int *a,\n",
    "            const int *b,\n",
    "            int *res,\n",
    "            ushort width,\n",
    "            ushort height)\n",
    "        {\n",
    "            int i = blockIdx.x*blockDim.x+threadIdx.x;\n",
    "\n",
    "            if (i < height) {\n",
    "                for (int j = 0; j < width; j++) {\n",
    "                    res[i*width+j] = a[i*width+j]+b[i*width+j];\n",
    "                }\n",
    "            }\n",
    "        }\n",
    "        \"\"\")\n",
    "\n",
    "width = 10000\n",
    "height = 10000\n",
    "\n",
    "a = np.ones((height, width)).astype(np.int32)\n",
    "b = np.ones((height, width)).astype(np.int32)\n",
    "\n",
    "res = np.empty((height, width)).astype(np.int32)\n",
    "\n",
    "dim_size = 1024\n",
    "block_size = (dim_size,1,1)\n",
    "grid_size = (int(math.ceil(height / float(dim_size))),1)\n",
    "\n",
    "start_time = time.time()\n",
    "matrixaddition = mod.get_function(\"matrixaddition\")\n",
    "matrixaddition(\n",
    "        cuda.In(a),\n",
    "        cuda.In(b),\n",
    "        cuda.Out(res),\n",
    "        np.uint16(width),\n",
    "        np.uint16(height),\n",
    "        block=block_size,\n",
    "        grid=grid_size)\n",
    "total_time_outer = time.time() - start_time\n",
    "\n",
    "print(res)"
   ]
  },
  {
   "cell_type": "markdown",
   "metadata": {},
   "source": [
    "3 Parallelising the inner loop\n",
    "------------------------------\n",
    "To fix the error in the previous version, we instead parallelise the inner loop.\n",
    "This means when we are reading data from global memory, then every data point is\n",
    "given to a thread and no data is fetched without being assigned to a thread. It is also important to note                                                           \n",
    " 25 that in this example we use a row major memory layout.\n",
    "\n",
    "![All threads read within the same block of memory](coalesced.png)\n"
   ]
  },
  {
   "cell_type": "code",
   "execution_count": 2,
   "metadata": {},
   "outputs": [
    {
     "name": "stdout",
     "output_type": "stream",
     "text": [
      "[[2 2 2 ... 2 2 2]\n",
      " [2 2 2 ... 2 2 2]\n",
      " [2 2 2 ... 2 2 2]\n",
      " ...\n",
      " [2 2 2 ... 2 2 2]\n",
      " [2 2 2 ... 2 2 2]\n",
      " [2 2 2 ... 2 2 2]]\n"
     ]
    }
   ],
   "source": [
    "import numpy as np\n",
    "import pycuda.driver as cuda\n",
    "import pycuda.autoinit\n",
    "from pycuda.compiler import SourceModule\n",
    "import math\n",
    "import time\n",
    "\n",
    "mod = SourceModule(\"\"\"\n",
    "        __global__ void matrixaddition(\n",
    "            const int *a,\n",
    "            const int *b,\n",
    "            int *res,\n",
    "            ushort width,\n",
    "            ushort height)\n",
    "        {\n",
    "            int i = blockIdx.x*blockDim.x+threadIdx.x;\n",
    "\n",
    "            if (i < width) {\n",
    "                for (int j = 0; j < height; j++) {\n",
    "                    res[j*width+i] = a[j*width+i]+b[j*width+i];\n",
    "                }\n",
    "            }\n",
    "        }\n",
    "        \"\"\")\n",
    "\n",
    "width = 10000\n",
    "height = 10000\n",
    "\n",
    "a = np.ones((height, width)).astype(np.int32)\n",
    "b = np.ones((height, width)).astype(np.int32)\n",
    "\n",
    "res = np.empty((height, width)).astype(np.int32)\n",
    "\n",
    "dim_size = 512\n",
    "block_size = (dim_size,1,1)\n",
    "grid_size = (int(math.ceil(width / float(dim_size))),1)\n",
    "\n",
    "start_time = time.time()\n",
    "matrixaddition = mod.get_function(\"matrixaddition\")\n",
    "matrixaddition(\n",
    "        cuda.In(a),\n",
    "        cuda.In(b),\n",
    "        cuda.Out(res),\n",
    "        np.uint16(width),\n",
    "        np.uint16(height),\n",
    "        block=block_size,\n",
    "        grid=grid_size)\n",
    "total_time_inner = time.time() - start_time\n",
    "\n",
    "print(res)"
   ]
  },
  {
   "cell_type": "code",
   "execution_count": 4,
   "metadata": {},
   "outputs": [
    {
     "data": {
      "image/png": "[encoded data removed]",
      "text/plain": [
       "<Figure size 640x640 with 1 Axes>"
      ]
     },
     "metadata": {},
     "output_type": "display_data"
    }
   ],
   "source": [
    "import matplotlib.pyplot as plt\n",
    "names = [\"Outer\", \"Inner\"]\n",
    "values = [total_time_outer, total_time_inner]\n",
    "\n",
    "fig=plt.figure(figsize=(8, 8), dpi= 80, facecolor='w', edgecolor='k')\n",
    "plt.title(\"Timing\")\n",
    "plt.bar(names, values)\n",
    "\n",
    "plt.show()"
   ]
  },
  {
   "cell_type": "code",
   "execution_count": null,
   "metadata": {},
   "outputs": [],
   "source": []
  }
 ],
 "metadata": {
  "kernelspec": {
   "display_name": "Python 3",
   "language": "python",
   "name": "python3"
  },
  "language_info": {
   "codemirror_mode": {
    "name": "ipython",
    "version": 3
   },
   "file_extension": ".py",
   "mimetype": "text/x-python",
   "name": "python",
   "nbconvert_exporter": "python",
   "pygments_lexer": "ipython3",
   "version": "3.7.5"
  }
 },
 "nbformat": 4,
 "nbformat_minor": 2
}
