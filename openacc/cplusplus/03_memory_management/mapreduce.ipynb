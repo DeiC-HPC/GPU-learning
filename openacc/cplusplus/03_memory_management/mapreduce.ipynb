{
 "cells": [
  {
   "cell_type": "markdown",
   "metadata": {},
   "source": [
    "Memory management\n",
    "=================\n",
    "When using a GPU one of the most important things to do right besides memory\n",
    "coalescence is memory management. Moving data to and from the GPU takes time,\n",
    "which could have been used on calculations. Therefore will we in this section\n",
    "look into how we can better manage our memory transactions.\n",
    "\n",
    "0 In general\n",
    "------------\n",
    "In our previous examples we have moved data between CPU and GPU when doing our\n",
    "loops. The examples have also been fairly simple with only one loop. When working\n",
    "with bigger programs with many different loops.\n",
    "\n",
    "Here we can either use `#pragma acc data`, where we use curly brackets to\n",
    "create the scope for the data, or `#pragma acc enter data` and\n",
    "`#pragma acc exit data`.\n",
    "\n",
    "1 Map reduce example\n",
    "--------------------\n",
    "To show how much a difference it makes and how to use data transfer, we will now\n",
    "look at a map reduce example. Map reduce refers to two operations normally used\n",
    "in functional programming. A map is where you do the same operation, for example\n",
    "adding two to each element, over every element in a list. Reduce is then taking a\n",
    "list and then reducing it to a single element. This could for example be getting\n",
    "the sum a list. If you're doing a reduction loop in OpenACC then you have to add\n",
    "the `reduction` clause to your OpenACC pragma. Inside the the reduction clause\n",
    "you set a reduction operator and then a number of variables. The possible\n",
    "reduction operators are `+`, `*`, `max`, `min`, `&`, `|`, `^`, `&&`, and `||`.\n",
    "\n",
    "The two programs are based around two loops the first being a map and the second\n",
    "being a reduce. In the not optimized program we copy variables in both loops.\n",
    "```c++\n",
    "#pragma acc parallel loop copy(elements[:num])\n",
    "for (int i = 0; i < num; i++) {\n",
    "    elements[i] = i;\n",
    "}\n",
    "\n",
    "#pragma acc parallel loop reduction(+:res) copy(elements[:num])\n",
    "for (int i = 0; i < num; i++) {\n",
    "    res += elements[i];\n",
    "}\n",
    "```\n",
    "In the optimized version we put the code into a data region and create the\n",
    "`elements` array on the GPU and then do our calculations so it is never copied.\n",
    "The only variable that is copied is the `res`. As copying variables and arrays\n",
    "between CPU and GPU is an expensive operation then the goal is to limit that.\n",
    "```c++\n",
    "#pragma acc data create(elements[:num])\n",
    "{\n",
    "    #pragma acc parallel loop\n",
    "    for (int i = 0; i < num; i++) {\n",
    "        elements[i] = i;\n",
    "    }\n",
    "    #pragma acc parallel loop reduction(+:res)\n",
    "    for (int i = 0; i < num; i++) {\n",
    "        res += elements[i];\n",
    "    }\n",
    "}\n",
    "```\n"
   ]
  },
  {
   "cell_type": "code",
   "execution_count": 4,
   "metadata": {
    "execution": {
     "iopub.execute_input": "2020-10-27T14:25:09.417628Z",
     "iopub.status.busy": "2020-10-27T14:25:09.417473Z",
     "iopub.status.idle": "2020-10-27T14:25:10.389309Z",
     "shell.execute_reply": "2020-10-27T14:25:10.388741Z",
     "shell.execute_reply.started": "2020-10-27T14:25:09.417614Z"
    }
   },
   "outputs": [
    {
     "name": "stdout",
     "output_type": "stream",
     "text": [
      "Elapsed time: 0.46252\n",
      "The result is: 4999999950000000\n"
     ]
    }
   ],
   "source": [
    "#include<stdlib.h>\n",
    "#include<iostream>\n",
    "#include<timer.h>\n",
    "\n",
    "using namespace std;\n",
    "\n",
    "int main() {\n",
    "    int num = 100000000;\n",
    "    int* elements = new int[num];\n",
    "    long res = 0;\n",
    "    \n",
    "    timer time;\n",
    "\n",
    "    #pragma acc parallel loop copy(elements[:num])\n",
    "    for (int i = 0; i < num; i++) {\n",
    "        elements[i] = i;\n",
    "    }\n",
    "\n",
    "    #pragma acc parallel loop reduction(+:res) copy(elements[:num])\n",
    "    for (int i = 0; i < num; i++) {\n",
    "        res += elements[i];\n",
    "    }\n",
    "\n",
    "    cout << \"Elapsed time: \" << time.getTime() << endl;\n",
    "\n",
    "    cout << \"The result is: \" << res << endl;\n",
    "}\n"
   ]
  },
  {
   "cell_type": "code",
   "execution_count": 3,
   "metadata": {
    "execution": {
     "iopub.execute_input": "2020-10-27T14:25:04.973068Z",
     "iopub.status.busy": "2020-10-27T14:25:04.972894Z",
     "iopub.status.idle": "2020-10-27T14:25:05.582022Z",
     "shell.execute_reply": "2020-10-27T14:25:05.581535Z",
     "shell.execute_reply.started": "2020-10-27T14:25:04.973054Z"
    }
   },
   "outputs": [
    {
     "name": "stdout",
     "output_type": "stream",
     "text": [
      "Elapsed time: 0.107659\n",
      "The result is: 4999999950000000\n"
     ]
    }
   ],
   "source": [
    "#include<stdlib.h>\n",
    "#include<iostream>\n",
    "#include<timer.h>\n",
    "\n",
    "using namespace std;\n",
    "\n",
    "int main() {\n",
    "    int num = 100000000;\n",
    "    int* elements = new int[num];\n",
    "    long res = 0;\n",
    "    \n",
    "    timer time;\n",
    "\n",
    "    #pragma acc data create(elements[:num])\n",
    "    {\n",
    "        #pragma acc parallel loop\n",
    "        for (int i = 0; i < num; i++) {\n",
    "            elements[i] = i;\n",
    "        }\n",
    "        #pragma acc parallel loop reduction(+:res)\n",
    "        for (int i = 0; i < num; i++) {\n",
    "            res += elements[i];\n",
    "        }\n",
    "    }\n",
    "\n",
    "    cout << \"Elapsed time: \" << time.getTime() << endl;\n",
    "\n",
    "    cout << \"The result is: \" << res << endl;\n",
    "}\n"
   ]
  }
 ],
 "metadata": {
  "kernelspec": {
   "display_name": "C++ with OpenACC",
   "language": "c++",
   "name": "kernel_cpp_openacc"
  },
  "language_info": {
   "file_extension": ".c",
   "mimetype": "text/plain",
   "name": "c"
  }
 },
 "nbformat": 4,
 "nbformat_minor": 4
}
