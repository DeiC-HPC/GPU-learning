{
 "cells": [
  {
   "cell_type": "markdown",
   "metadata": {},
   "source": [
    "Exploiting parallelism\n",
    "======================\n",
    "We have now talked about the basic things of GPU programming with OpenACC. Now we\n",
    "have to put that into practice. Sometimes when you have big loops it can be\n",
    "difficult to figure out if they are actually parallel or partly parallel so they\n",
    "can be split up.\n",
    "\n",
    "0 When are loops parallel?\n",
    "--------------------------\n",
    "When we look at nested loops it can be difficult to spot if they are\n",
    "parallelisable. But there are some techniques, which can help you do so. One we\n",
    "can use is called direction vectors. By determining the direction of dependence\n",
    "in a loop we can see if a loop is parallel.\n",
    "\n",
    "There is exists three types of dependencies:\n",
    "- True dependency, also called read after write (RAW).\n",
    "- Anti dependency, also called write after read (WAR).\n",
    "- Output dependency, also called write after write (WAW).\n",
    "\n",
    "In a loop this is defined as what happens in the previous iteration. For example\n",
    "```\n",
    "FOR i = 1 TO N\n",
    "    A[i] = A[i-1]\n",
    "```\n",
    "This is a RAW as every iteration reads what has been written in the previous.\n",
    "\n",
    "To create a direction vector we use the following characters `=`, `<`, and `>`.\n",
    "`=` is used for WAW operations, `<` for RAW operations, and `>` for WAR\n",
    "operations.\n",
    "\n",
    "For some more advanced examples we have\n",
    "```\n",
    "FOR i = 0 TO N\n",
    "    FOR j = 0 TO N\n",
    "        A[i,j] = A[i,j] ...\n",
    "```\n",
    "Here the direction vector is `[=, =]` or WAW in both directions.\n",
    "\n",
    "```\n",
    "FOR i = 0 TO N\n",
    "    FOR j = 1 TO N\n",
    "        A[j,i] = A[j-1,i] ...\n",
    "```\n",
    "Here the direction vectors is `[=, <]`, where the outer loop is WAW, and the\n",
    "inner RAW.\n",
    "\n",
    "```\n",
    "FOR i = 0 TO N\n",
    "    FOR j = 0 TO N\n",
    "        A[i,j] = A[i-1,j+1] ...\n",
    "```\n",
    "For the last example we have the direction vector `[<, >]`, which means the\n",
    "outer loop is RAW, and the inner is WAR.\n",
    "\n",
    "And then we have the important part about direction vectors, which is that\n",
    "loop in a loop is parallel if all its directions are `=` or there exist an outer\n",
    "loop whose direction is `<`. This means we can determine parallelism from our\n",
    "direction vectors.\n",
    "Another thing we know is that direction vectors can not have `>` as the first\n",
    "non-`=` symbol. This would lead us to depend on something that we have yet to\n",
    "calculate.\n",
    "\n",
    "Loop interchange\n",
    "----------------\n",
    "To exploit even more parallelism in our code, we can use loop interchange. By\n",
    "doing loop interchange we can also make sure that we get coalesced memory\n",
    "access, which we have seen earlier can bring us performance gains.\n",
    "\n",
    "Loop interchange is allowed if and only if it does not result in a `>` direction\n",
    "as the leftmost non-`=` direction.\n",
    "\n",
    "1 Loop interchange example\n",
    "--------------------------\n",
    "\n",
    "\n",
    "\n",
    "TODO: make WAR example with result array\n"
   ]
  },
  {
   "cell_type": "code",
   "execution_count": 3,
   "metadata": {
    "execution": {
     "iopub.execute_input": "2020-10-27T14:31:17.946876Z",
     "iopub.status.busy": "2020-10-27T14:31:17.946726Z",
     "iopub.status.idle": "2020-10-27T14:32:04.447233Z",
     "shell.execute_reply": "2020-10-27T14:32:04.446717Z",
     "shell.execute_reply.started": "2020-10-27T14:31:17.946862Z"
    }
   },
   "outputs": [
    {
     "name": "stdout",
     "output_type": "stream",
     "text": [
      "Elapsed time: 45.4758\n",
      "62437624500\n"
     ]
    }
   ],
   "source": [
    "#include<stdlib.h>\n",
    "#include<iostream>\n",
    "#include<timer.h>\n",
    "\n",
    "using namespace std;\n",
    "\n",
    "int main() {\n",
    "    int num = 500;\n",
    "    int memsize = num*num*num;\n",
    "    long long* elements = new long long[memsize];\n",
    "\n",
    "    #pragma acc data copyout(elements[:memsize])\n",
    "    {\n",
    "        #pragma acc parallel loop\n",
    "        for (long long i = 0; i < memsize; i++) {\n",
    "            elements[i] = i;\n",
    "        }\n",
    "\n",
    "        timer time;\n",
    "        for (int i = 0; i < num; i++) {\n",
    "            for (int j = 1; j < num; j++) {\n",
    "                #pragma acc parallel loop\n",
    "                for (int k = 0; k < num; k++) {\n",
    "                    elements[i*num*num+j*num+k] += elements[i*num*num+(j-1)*num+k];\n",
    "                }\n",
    "            }\n",
    "        }\n",
    "\n",
    "        cout << \"Elapsed time: \" << time.getTime() << endl;\n",
    "    }\n",
    "\n",
    "    cout << elements[memsize-1] << endl;\n",
    "}\n"
   ]
  },
  {
   "cell_type": "code",
   "execution_count": 5,
   "metadata": {
    "execution": {
     "iopub.execute_input": "2020-10-27T14:32:41.387252Z",
     "iopub.status.busy": "2020-10-27T14:32:41.387089Z",
     "iopub.status.idle": "2020-10-27T14:32:42.455262Z",
     "shell.execute_reply": "2020-10-27T14:32:42.454740Z",
     "shell.execute_reply.started": "2020-10-27T14:32:41.387238Z"
    }
   },
   "outputs": [
    {
     "name": "stdout",
     "output_type": "stream",
     "text": [
      "Elapsed time: 0.099774\n",
      "62437624500\n"
     ]
    }
   ],
   "source": [
    "#include<stdlib.h>\n",
    "#include<iostream>\n",
    "#include<timer.h>\n",
    "\n",
    "using namespace std;\n",
    "\n",
    "int main() {\n",
    "    int num = 500;\n",
    "    int memsize = num*num*num;\n",
    "    long long* elements = new long long[memsize];\n",
    "\n",
    "    #pragma acc data copyout(elements[:memsize])\n",
    "    {\n",
    "        #pragma acc parallel loop\n",
    "        for (long long i = 0; i < memsize; i++) {\n",
    "            elements[i] = i;\n",
    "        }\n",
    "\n",
    "        timer time;\n",
    "\n",
    "        for (int j = 1; j < num; j++) {\n",
    "            #pragma acc parallel loop collapse(2) present(elements[:memsize])\n",
    "            for (int i = 0; i < num; i++) {\n",
    "                for (int k = 0; k < num; k++) {\n",
    "                    elements[i*num*num+j*num+k] += elements[i*num*num+(j-1)*num+k];\n",
    "                }\n",
    "            }\n",
    "        }\n",
    "\n",
    "        cout << \"Elapsed time: \" << time.getTime() << endl;\n",
    "    }\n",
    "\n",
    "    cout << elements[memsize-1] << endl;\n",
    "}"
   ]
  }
 ],
 "metadata": {
  "kernelspec": {
   "display_name": "C++ with OpenACC",
   "language": "c++",
   "name": "kernel_cpp_openacc"
  },
  "language_info": {
   "file_extension": ".c",
   "mimetype": "text/plain",
   "name": "c"
  }
 },
 "nbformat": 4,
 "nbformat_minor": 4
}
